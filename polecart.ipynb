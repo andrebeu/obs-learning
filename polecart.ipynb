{
 "cells": [
  {
   "cell_type": "code",
   "execution_count": 1,
   "id": "9cc7f2c5",
   "metadata": {},
   "outputs": [],
   "source": [
    "import numpy as np\n",
    "import matplotlib.pyplot as plt\n",
    "import gym\n",
    "from utils import *\n",
    "from collections import namedtuple\n",
    "\n",
    "import torch as tr\n",
    "import gym\n",
    "\n",
    "%load_ext autoreload\n",
    "%autoreload 2"
   ]
  },
  {
   "cell_type": "code",
   "execution_count": 2,
   "id": "44986e9f",
   "metadata": {},
   "outputs": [],
   "source": [
    "def experiment(nseeds,neps,kw={}):\n",
    "  \"\"\"\n",
    "  interactrion logic\n",
    "  a < agent(s,h)\n",
    "  s',r  < env (a)\n",
    "  \n",
    "  \"\"\"\n",
    "  metric = np.zeros((nseeds,neps))\n",
    "  data = np.zeros((2,nseeds,neps))\n",
    "  # loop over seeds\n",
    "  for s in range(nseeds):\n",
    "    np.random.seed(s)\n",
    "    tr.manual_seed(s)\n",
    "    # setup\n",
    "    agent = ACAgent(**kw)\n",
    "    task = Task(task_name='CartPole-v1',max_ep_len=500)\n",
    "    for e in range(neps):\n",
    "      traj = task.play_ep(pi=agent.act)\n",
    "      expD = unpack_expL(traj)\n",
    "      metric[s,e] = np.sum(expD['reward'])\n",
    "      agent.update(expD)\n",
    "      epdata = agent.eval(expD)\n",
    "      data[0,s,e] = epdata['entropy']\n",
    "      data[1,s,e] = epdata['delta']\n",
    "  return metric,data"
   ]
  },
  {
   "cell_type": "code",
   "execution_count": null,
   "id": "00e1915c",
   "metadata": {
    "scrolled": true
   },
   "outputs": [],
   "source": [
    "ns,ne = 3,3000\n",
    "ACmetric,ACdata = experiment(ns,ne,kw={'TDupdate':True})\n",
    "REmetric,REdata = experiment(ns,ne,kw={'TDupdate':False})"
   ]
  },
  {
   "cell_type": "code",
   "execution_count": null,
   "id": "93e5788b",
   "metadata": {},
   "outputs": [],
   "source": [
    "w = 50\n",
    "movavg = lambda X: np.mean([X[i:i+w] for i in range(len(X)-w)],1)"
   ]
  },
  {
   "cell_type": "code",
   "execution_count": null,
   "id": "b4816571",
   "metadata": {},
   "outputs": [],
   "source": [
    "for metric in [ACmetric,REmetric]:\n",
    "  M = metric.mean(0)\n",
    "  M = movavg(M)\n",
    "  plt.plot(M)"
   ]
  },
  {
   "cell_type": "code",
   "execution_count": null,
   "id": "0d9a907e",
   "metadata": {},
   "outputs": [],
   "source": [
    "for data in [ACdata,REdata]:\n",
    "  M = data[0].mean(0)\n",
    "  M = movavg(M)\n",
    "  plt.plot(M)\n",
    "plt.title('entropy of pi')"
   ]
  },
  {
   "cell_type": "code",
   "execution_count": null,
   "id": "cbc6ac09",
   "metadata": {},
   "outputs": [],
   "source": [
    "for data in [ACdata,REdata]:\n",
    "  M = data[1].mean(0)\n",
    "  M = movavg(M)\n",
    "  plt.plot(M)\n",
    "plt.title('value estimate error')"
   ]
  },
  {
   "cell_type": "code",
   "execution_count": null,
   "id": "38f6ef65",
   "metadata": {},
   "outputs": [],
   "source": []
  }
 ],
 "metadata": {
  "kernelspec": {
   "display_name": "Python 3 (ipykernel)",
   "language": "python",
   "name": "python3"
  },
  "language_info": {
   "codemirror_mode": {
    "name": "ipython",
    "version": 3
   },
   "file_extension": ".py",
   "mimetype": "text/x-python",
   "name": "python",
   "nbconvert_exporter": "python",
   "pygments_lexer": "ipython3",
   "version": "3.7.11"
  }
 },
 "nbformat": 4,
 "nbformat_minor": 5
}
